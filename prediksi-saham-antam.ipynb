{
 "cells": [
  {
   "cell_type": "markdown",
   "id": "d3eca6f2",
   "metadata": {},
   "source": [
    "PREDIKSI SAHAM PT ANEKA TAMBANG PERBULAN"
   ]
  },
  {
   "cell_type": "markdown",
   "id": "bb62e77b",
   "metadata": {},
   "source": [
    "Install Pyspark"
   ]
  },
  {
   "cell_type": "code",
   "execution_count": 1,
   "id": "3a7de84e",
   "metadata": {},
   "outputs": [
    {
     "name": "stdout",
     "output_type": "stream",
     "text": [
      "Requirement already satisfied: pyspark in c:\\users\\nadya arassy\\appdata\\roaming\\python\\python311\\site-packages (3.5.0)\n",
      "Requirement already satisfied: py4j==0.10.9.7 in c:\\users\\nadya arassy\\appdata\\roaming\\python\\python311\\site-packages (from pyspark) (0.10.9.7)\n"
     ]
    }
   ],
   "source": [
    "!pip install pyspark"
   ]
  },
  {
   "cell_type": "code",
   "execution_count": 89,
   "id": "a78484c0",
   "metadata": {},
   "outputs": [],
   "source": [
    "#Import Library yang dibutuhkan\n",
    "\n",
    "from pyspark.sql import SparkSession\n",
    "from pyspark.ml.feature import VectorAssembler\n",
    "from pyspark.ml.regression import LinearRegression\n",
    "from pyspark.ml.evaluation import RegressionEvaluator\n",
    "from pyspark.sql.functions import to_date, unix_timestamp, col\n",
    "from pyspark.sql.types import DateType\n",
    "from datetime import datetime\n",
    "from pyspark.sql.types import *"
   ]
  },
  {
   "cell_type": "code",
   "execution_count": 81,
   "id": "31343e0b",
   "metadata": {},
   "outputs": [
    {
     "name": "stdout",
     "output_type": "stream",
     "text": [
      "D:\\Anaconda\\python.exe\n"
     ]
    }
   ],
   "source": [
    "import sys\n",
    "print(sys.executable)\n"
   ]
  },
  {
   "cell_type": "code",
   "execution_count": 82,
   "id": "65572f4d",
   "metadata": {},
   "outputs": [],
   "source": [
    "python_executable = \"D:\\Anaconda\\python.exe\""
   ]
  },
  {
   "cell_type": "code",
   "execution_count": 3,
   "id": "0888b97c",
   "metadata": {},
   "outputs": [],
   "source": [
    "#Inisialisasi SparkSession\n",
    "\n",
    "spark = SparkSession.builder.appName('PrediksiSaham').getOrCreate()\n"
   ]
  },
  {
   "cell_type": "code",
   "execution_count": 5,
   "id": "376e4bbc",
   "metadata": {},
   "outputs": [],
   "source": [
    "# Definisi schema kolom-kolom dengan tipe data yang sesuai\n",
    "schema = StructType([\n",
    "    StructField(\"Date\", StringType(), True),\n",
    "    StructField(\"Open\", DoubleType(), True),\n",
    "    StructField(\"High\", DoubleType(), True),\n",
    "    StructField(\"Low\", DoubleType(), True),\n",
    "    StructField(\"Close\", DoubleType(), True),\n",
    "    StructField(\"Adj Close\", FloatType(), True),\n",
    "    StructField(\"Volume\", DoubleType(), True)\n",
    "])"
   ]
  },
  {
   "cell_type": "code",
   "execution_count": 29,
   "id": "c4465cb4",
   "metadata": {},
   "outputs": [
    {
     "name": "stdout",
     "output_type": "stream",
     "text": [
      "+----------+-----+-----+-----+-----+---------+----------+\n",
      "|      Date| Open| High|  Low|Close|Adj Close|    Volume|\n",
      "+----------+-----+-----+-----+-----+---------+----------+\n",
      "|2018-01-01|625.0|625.0|625.0|625.0|573.29175|       0.0|\n",
      "|2018-01-02|635.0|645.0|625.0|635.0| 582.4644|  3.6621E7|\n",
      "|2018-01-03|635.0|655.0|630.0|630.0|577.87805| 4.36076E7|\n",
      "|2018-01-04|635.0|645.0|635.0|640.0| 587.0508| 1.50649E7|\n",
      "|2018-01-05|645.0|660.0|645.0|655.0| 600.8098| 4.93237E7|\n",
      "|2018-01-08|660.0|660.0|640.0|650.0| 596.2234| 3.19205E7|\n",
      "|2018-01-09|655.0|680.0|650.0|655.0| 600.8098| 5.16889E7|\n",
      "|2018-01-10|655.0|665.0|645.0|650.0| 596.2234| 2.07743E7|\n",
      "|2018-01-11|655.0|660.0|645.0|650.0| 596.2234| 1.42357E7|\n",
      "|2018-01-12|650.0|670.0|645.0|665.0| 609.9824|  6.6859E7|\n",
      "|2018-01-15|670.0|680.0|660.0|660.0| 605.3962| 5.28282E7|\n",
      "|2018-01-16|665.0|720.0|665.0|705.0| 646.6731|2.360098E8|\n",
      "|2018-01-17|705.0|740.0|690.0|730.0|669.60474|2.422831E8|\n",
      "|2018-01-18|750.0|775.0|730.0|740.0| 678.7774|2.766888E8|\n",
      "|2018-01-19|745.0|765.0|735.0|760.0|697.12274| 9.18918E7|\n",
      "|2018-01-22|765.0|790.0|765.0|775.0| 710.8818|1.429921E8|\n",
      "|2018-01-23|780.0|810.0|775.0|800.0| 733.8134|1.530833E8|\n",
      "|2018-01-24|805.0|815.0|780.0|780.0| 715.4681| 9.37947E7|\n",
      "|2018-01-25|810.0|870.0|810.0|845.0| 775.0904|3.523565E8|\n",
      "|2018-01-26|860.0|875.0|855.0|855.0|  784.263|1.364927E8|\n",
      "+----------+-----+-----+-----+-----+---------+----------+\n",
      "only showing top 20 rows\n",
      "\n"
     ]
    }
   ],
   "source": [
    "# Load Dataset\n",
    "data = spark.read.csv(\"antam.csv\", header=True, schema=schema)\n",
    "data.show()"
   ]
  },
  {
   "cell_type": "code",
   "execution_count": 30,
   "id": "b3371df6",
   "metadata": {
    "scrolled": true
   },
   "outputs": [
    {
     "name": "stdout",
     "output_type": "stream",
     "text": [
      "root\n",
      " |-- Date: string (nullable = true)\n",
      " |-- Open: double (nullable = true)\n",
      " |-- High: double (nullable = true)\n",
      " |-- Low: double (nullable = true)\n",
      " |-- Close: double (nullable = true)\n",
      " |-- Adj Close: float (nullable = true)\n",
      " |-- Volume: double (nullable = true)\n",
      "\n"
     ]
    }
   ],
   "source": [
    "#Menampilkan skema dataframe\n",
    "data.printSchema()"
   ]
  },
  {
   "cell_type": "code",
   "execution_count": 31,
   "id": "68f7e35e",
   "metadata": {},
   "outputs": [],
   "source": [
    "#Mengubah kolom date nenjadi tipe data datetime\n",
    "data = data.withColumn(\"Date\", to_date(\"Date\", \"yyyy-MM-dd\"))"
   ]
  },
  {
   "cell_type": "code",
   "execution_count": 32,
   "id": "64fdc0b3",
   "metadata": {
    "scrolled": false
   },
   "outputs": [
    {
     "name": "stdout",
     "output_type": "stream",
     "text": [
      "root\n",
      " |-- Date: date (nullable = true)\n",
      " |-- Open: double (nullable = true)\n",
      " |-- High: double (nullable = true)\n",
      " |-- Low: double (nullable = true)\n",
      " |-- Close: double (nullable = true)\n",
      " |-- Adj Close: float (nullable = true)\n",
      " |-- Volume: double (nullable = true)\n",
      "\n"
     ]
    }
   ],
   "source": [
    "data.printSchema()"
   ]
  },
  {
   "cell_type": "code",
   "execution_count": 33,
   "id": "04c31aaf",
   "metadata": {},
   "outputs": [
    {
     "name": "stdout",
     "output_type": "stream",
     "text": [
      "+----------+-----+-----+-----+-----+---------+----------+\n",
      "|      Date| Open| High|  Low|Close|Adj Close|    Volume|\n",
      "+----------+-----+-----+-----+-----+---------+----------+\n",
      "|2018-01-01|625.0|625.0|625.0|625.0|573.29175|       0.0|\n",
      "|2018-01-02|635.0|645.0|625.0|635.0| 582.4644|  3.6621E7|\n",
      "|2018-01-03|635.0|655.0|630.0|630.0|577.87805| 4.36076E7|\n",
      "|2018-01-04|635.0|645.0|635.0|640.0| 587.0508| 1.50649E7|\n",
      "|2018-01-05|645.0|660.0|645.0|655.0| 600.8098| 4.93237E7|\n",
      "|2018-01-08|660.0|660.0|640.0|650.0| 596.2234| 3.19205E7|\n",
      "|2018-01-09|655.0|680.0|650.0|655.0| 600.8098| 5.16889E7|\n",
      "|2018-01-10|655.0|665.0|645.0|650.0| 596.2234| 2.07743E7|\n",
      "|2018-01-11|655.0|660.0|645.0|650.0| 596.2234| 1.42357E7|\n",
      "|2018-01-12|650.0|670.0|645.0|665.0| 609.9824|  6.6859E7|\n",
      "|2018-01-15|670.0|680.0|660.0|660.0| 605.3962| 5.28282E7|\n",
      "|2018-01-16|665.0|720.0|665.0|705.0| 646.6731|2.360098E8|\n",
      "|2018-01-17|705.0|740.0|690.0|730.0|669.60474|2.422831E8|\n",
      "|2018-01-18|750.0|775.0|730.0|740.0| 678.7774|2.766888E8|\n",
      "|2018-01-19|745.0|765.0|735.0|760.0|697.12274| 9.18918E7|\n",
      "|2018-01-22|765.0|790.0|765.0|775.0| 710.8818|1.429921E8|\n",
      "|2018-01-23|780.0|810.0|775.0|800.0| 733.8134|1.530833E8|\n",
      "|2018-01-24|805.0|815.0|780.0|780.0| 715.4681| 9.37947E7|\n",
      "|2018-01-25|810.0|870.0|810.0|845.0| 775.0904|3.523565E8|\n",
      "|2018-01-26|860.0|875.0|855.0|855.0|  784.263|1.364927E8|\n",
      "+----------+-----+-----+-----+-----+---------+----------+\n",
      "only showing top 20 rows\n",
      "\n"
     ]
    }
   ],
   "source": [
    "data.show()"
   ]
  },
  {
   "cell_type": "code",
   "execution_count": 34,
   "id": "0bca6ef1",
   "metadata": {},
   "outputs": [
    {
     "name": "stdout",
     "output_type": "stream",
     "text": [
      "Jumlah baris: 1493\n",
      "Jumlah kolom: 7\n"
     ]
    }
   ],
   "source": [
    "# DF Shape\n",
    "# Mendapatkan jumlah baris\n",
    "num_rows = data.count()\n",
    "\n",
    "# Mendapatkan jumlah kolom\n",
    "num_columns = len(data.columns)\n",
    "\n",
    "# Tampilkan informasi \"shape\"\n",
    "print(f\"Jumlah baris: {num_rows}\")\n",
    "print(f\"Jumlah kolom: {num_columns}\")"
   ]
  },
  {
   "cell_type": "code",
   "execution_count": 35,
   "id": "eac3d787",
   "metadata": {},
   "outputs": [
    {
     "name": "stdout",
     "output_type": "stream",
     "text": [
      "+-------+------------------+------------------+------------------+------------------+------------------+--------------------+\n",
      "|summary|              Open|              High|               Low|             Close|         Adj Close|              Volume|\n",
      "+-------+------------------+------------------+------------------+------------------+------------------+--------------------+\n",
      "|  count|              1492|              1492|              1492|              1492|              1492|                1492|\n",
      "|   mean|1489.5576407506703|1516.3069705093833|1462.2687667560322|1486.3853887399464|1410.8677421958453|1.2967773512064344E8|\n",
      "| stddev| 713.8569838952335| 728.0755507850204| 699.4568560753072| 712.5944461395959| 687.8259534687033| 2.028070291473232E8|\n",
      "|    min|             348.0|             364.0|             338.0|             348.0|         325.17215|                 0.0|\n",
      "|    max|            3300.0|            3440.0|            3060.0|            3190.0|         2994.5884|         2.1866527E9|\n",
      "+-------+------------------+------------------+------------------+------------------+------------------+--------------------+\n",
      "\n"
     ]
    }
   ],
   "source": [
    "#describe with specific variables\n",
    "data.describe(['Open', 'High', 'Low', 'Close', 'Adj Close', 'Volume']).show()"
   ]
  },
  {
   "cell_type": "code",
   "execution_count": 36,
   "id": "02bd24e2",
   "metadata": {},
   "outputs": [],
   "source": [
    "# Menghapus baris yang memiliki nilai null di kolom-kolom tertentu\n",
    "data_cleaned = data.na.drop(subset=[\"Open\", \"High\", \"Low\", \"Close\", \"Adj Close\", \"Volume\"])"
   ]
  },
  {
   "cell_type": "code",
   "execution_count": 37,
   "id": "0023d676",
   "metadata": {},
   "outputs": [
    {
     "name": "stdout",
     "output_type": "stream",
     "text": [
      "+----------+-----+-----+-----+-----+---------+----------+--------------------+\n",
      "|      Date| Open| High|  Low|Close|Adj Close|    Volume|            features|\n",
      "+----------+-----+-----+-----+-----+---------+----------+--------------------+\n",
      "|2018-01-01|625.0|625.0|625.0|625.0|573.29175|       0.0|[625.0,625.0,625....|\n",
      "|2018-01-02|635.0|645.0|625.0|635.0| 582.4644|  3.6621E7|[635.0,645.0,625....|\n",
      "|2018-01-03|635.0|655.0|630.0|630.0|577.87805| 4.36076E7|[635.0,655.0,630....|\n",
      "|2018-01-04|635.0|645.0|635.0|640.0| 587.0508| 1.50649E7|[635.0,645.0,635....|\n",
      "|2018-01-05|645.0|660.0|645.0|655.0| 600.8098| 4.93237E7|[645.0,660.0,645....|\n",
      "|2018-01-08|660.0|660.0|640.0|650.0| 596.2234| 3.19205E7|[660.0,660.0,640....|\n",
      "|2018-01-09|655.0|680.0|650.0|655.0| 600.8098| 5.16889E7|[655.0,680.0,650....|\n",
      "|2018-01-10|655.0|665.0|645.0|650.0| 596.2234| 2.07743E7|[655.0,665.0,645....|\n",
      "|2018-01-11|655.0|660.0|645.0|650.0| 596.2234| 1.42357E7|[655.0,660.0,645....|\n",
      "|2018-01-12|650.0|670.0|645.0|665.0| 609.9824|  6.6859E7|[650.0,670.0,645....|\n",
      "|2018-01-15|670.0|680.0|660.0|660.0| 605.3962| 5.28282E7|[670.0,680.0,660....|\n",
      "|2018-01-16|665.0|720.0|665.0|705.0| 646.6731|2.360098E8|[665.0,720.0,665....|\n",
      "|2018-01-17|705.0|740.0|690.0|730.0|669.60474|2.422831E8|[705.0,740.0,690....|\n",
      "|2018-01-18|750.0|775.0|730.0|740.0| 678.7774|2.766888E8|[750.0,775.0,730....|\n",
      "|2018-01-19|745.0|765.0|735.0|760.0|697.12274| 9.18918E7|[745.0,765.0,735....|\n",
      "|2018-01-22|765.0|790.0|765.0|775.0| 710.8818|1.429921E8|[765.0,790.0,765....|\n",
      "|2018-01-23|780.0|810.0|775.0|800.0| 733.8134|1.530833E8|[780.0,810.0,775....|\n",
      "|2018-01-24|805.0|815.0|780.0|780.0| 715.4681| 9.37947E7|[805.0,815.0,780....|\n",
      "|2018-01-25|810.0|870.0|810.0|845.0| 775.0904|3.523565E8|[810.0,870.0,810....|\n",
      "|2018-01-26|860.0|875.0|855.0|855.0|  784.263|1.364927E8|[860.0,875.0,855....|\n",
      "+----------+-----+-----+-----+-----+---------+----------+--------------------+\n",
      "only showing top 20 rows\n",
      "\n"
     ]
    }
   ],
   "source": [
    "# Menyimpan nama kolom-kolom yang akan digunakan sebagai fitur dalam analisis atau pemodelan.\n",
    "features_cols = [\"Open\", \"High\", \"Low\", \"Close\", \"Adj Close\", \"Volume\"]\n",
    "\n",
    "# Membuat objek VectorAssembler. VectorAssembler adalah transformer dalam PySpark yang menggabungkan beberapa kolom menjadi satu vektor kolom. InputCols menyatakan kolom-kolom yang akan digabungkan, dan OutputCol adalah nama kolom hasil gabungan.\n",
    "assembler = VectorAssembler(inputCols=features_cols, outputCol=\"features\")\n",
    "\n",
    "#Menggunakan VectorAssembler untuk mentransformasikan DataFrame\n",
    "data_vec = assembler.transform(data_cleaned)\n",
    "\n",
    "data_vec.show()"
   ]
  },
  {
   "cell_type": "code",
   "execution_count": 94,
   "id": "e9601300",
   "metadata": {},
   "outputs": [
    {
     "name": "stdout",
     "output_type": "stream",
     "text": [
      "root\n",
      " |-- Date: date (nullable = true)\n",
      " |-- Open: double (nullable = true)\n",
      " |-- High: double (nullable = true)\n",
      " |-- Low: double (nullable = true)\n",
      " |-- Close: double (nullable = true)\n",
      " |-- Adj Close: float (nullable = true)\n",
      " |-- Volume: double (nullable = true)\n",
      " |-- features: vector (nullable = true)\n",
      "\n"
     ]
    }
   ],
   "source": [
    "data_vec.printSchema()"
   ]
  },
  {
   "cell_type": "code",
   "execution_count": 43,
   "id": "3e0329b9",
   "metadata": {},
   "outputs": [
    {
     "name": "stdout",
     "output_type": "stream",
     "text": [
      "Jumlah data latih: 1236\n",
      "Jumlah data uji: 256\n"
     ]
    }
   ],
   "source": [
    "# Membagi data menjadi data latih dan data uji\n",
    "# Membagi data menjadi data latih dan data uji\n",
    "(training_data, testing_data) = data_vec.randomSplit([0.8, 0.2], seed=42)\n",
    "\n",
    "# Periksa data latih\n",
    "print(\"Jumlah data latih:\", training_data.count())\n",
    "\n",
    "# Periksa data uji\n",
    "print(\"Jumlah data uji:\", testing_data.count())"
   ]
  },
  {
   "cell_type": "code",
   "execution_count": 46,
   "id": "71d0aac9",
   "metadata": {},
   "outputs": [
    {
     "name": "stdout",
     "output_type": "stream",
     "text": [
      "Koefisien: [-2.582342020861751e-13,3.85081251788635e-13,2.754677479816081e-13,0.9999999999994333,1.6758284754187149e-13,-5.350642341951812e-21]\n",
      "Intercept: 4.498143332012359e-12\n"
     ]
    }
   ],
   "source": [
    "# Membuat objek model regresi linier\n",
    "model = LinearRegression(featuresCol='features', labelCol='Close') \n",
    "\n",
    "# Melatih model menggunakan data latih\n",
    "lr_model = model.fit(training_data)\n",
    "\n",
    "# Periksa koefisien dan intercept dari model\n",
    "print(\"Koefisien:\", lr_model.coefficients)\n",
    "print(\"Intercept:\", lr_model.intercept)\n"
   ]
  },
  {
   "cell_type": "markdown",
   "id": "18487b85",
   "metadata": {},
   "source": [
    "Evaluasi"
   ]
  },
  {
   "cell_type": "code",
   "execution_count": 47,
   "id": "197969ef",
   "metadata": {},
   "outputs": [
    {
     "name": "stdout",
     "output_type": "stream",
     "text": [
      "+-----------------+-----+\n",
      "|       prediction|Close|\n",
      "+-----------------+-----+\n",
      "| 630.000000000006|630.0|\n",
      "|655.0000000000056|655.0|\n",
      "|649.9999999999987|650.0|\n",
      "|740.0000000000034|740.0|\n",
      "|855.0000000000011|855.0|\n",
      "|909.9999999999928|910.0|\n",
      "|829.9999999999966|830.0|\n",
      "|919.9999999999934|920.0|\n",
      "|910.0000000000022|910.0|\n",
      "|904.9999999999944|905.0|\n",
      "|884.9999999999894|885.0|\n",
      "|850.0000000000002|850.0|\n",
      "|879.9999999999949|880.0|\n",
      "|820.0000000000048|820.0|\n",
      "|770.0000000000018|770.0|\n",
      "|804.9999999999974|805.0|\n",
      "|884.9999999999937|885.0|\n",
      "|879.9999999999945|880.0|\n",
      "|994.9999999999976|995.0|\n",
      "|904.9999999999952|905.0|\n",
      "+-----------------+-----+\n",
      "only showing top 20 rows\n",
      "\n",
      "Root Mean Squared Error (RMSE) on test data = 8.545229889710028e-12\n"
     ]
    }
   ],
   "source": [
    "from pyspark.ml.evaluation import RegressionEvaluator\n",
    "\n",
    "# Memprediksi harga penutupan menggunakan data uji\n",
    "predictions = lr_model.transform(testing_data)\n",
    "\n",
    "# Menampilkan hasil prediksi dan kolom target aktual\n",
    "predictions.select(\"prediction\", \"Close\").show()\n",
    "\n",
    "# Evaluasi kinerja model (opsional)\n",
    "evaluator = RegressionEvaluator(labelCol=\"Close\", predictionCol=\"prediction\", metricName=\"rmse\")\n",
    "rmse = evaluator.evaluate(predictions)\n",
    "print(\"Root Mean Squared Error (RMSE) on test data =\", rmse)\n"
   ]
  },
  {
   "cell_type": "code",
   "execution_count": 48,
   "id": "460295ec",
   "metadata": {},
   "outputs": [
    {
     "name": "stdout",
     "output_type": "stream",
     "text": [
      "Mean Squared Error (MSE) on test data = 7.302095386799366e-23\n"
     ]
    }
   ],
   "source": [
    "# Membuat evaluator untuk menghitung MSE\n",
    "evaluator = RegressionEvaluator(labelCol=\"Close\", predictionCol=\"prediction\", metricName=\"mse\")\n",
    "\n",
    "# Memprediksi harga penutupan menggunakan data uji\n",
    "predictions = lr_model.transform(testing_data)\n",
    "\n",
    "# Menghitung MSE\n",
    "mse = evaluator.evaluate(predictions)\n",
    "print(\"Mean Squared Error (MSE) on test data =\", mse)\n"
   ]
  },
  {
   "cell_type": "code",
   "execution_count": 50,
   "id": "44a7a7c5",
   "metadata": {},
   "outputs": [
    {
     "name": "stdout",
     "output_type": "stream",
     "text": [
      "R-squared on test data = 1.0\n"
     ]
    }
   ],
   "source": [
    "# Membuat evaluator untuk menghitung R-squared\n",
    "evaluator = RegressionEvaluator(labelCol=\"Close\", predictionCol=\"prediction\", metricName=\"r2\")\n",
    "\n",
    "# Memprediksi harga penutupan menggunakan data uji\n",
    "predictions = lr_model.transform(testing_data)\n",
    "\n",
    "# Menghitung R-squared\n",
    "r2 = evaluator.evaluate(predictions)\n",
    "print(\"R-squared on test data =\", r2)\n"
   ]
  },
  {
   "cell_type": "code",
   "execution_count": 63,
   "id": "6c6b38e9",
   "metadata": {},
   "outputs": [
    {
     "name": "stdout",
     "output_type": "stream",
     "text": [
      "Akurasi Relatif Model: 100.00%\n"
     ]
    }
   ],
   "source": [
    "predictions = lr_model.transform(testing_data)\n",
    "\n",
    "# Asumsikan \"prediction\" adalah kolom yang berisi nilai prediksi dan \"Close\" adalah nilai aktual\n",
    "# Menghitung deviasi\n",
    "predictions = predictions.withColumn(\"Deviation\", (col(\"prediction\") - col(\"Close\")) / col(\"Close\"))\n",
    "\n",
    "# Calculate relative accuracy in percentage\n",
    "accuracy_percentage = (1 - predictions.agg({\"Deviation\": \"mean\"}).collect()[0][0]) * 100\n",
    "\n",
    "print(f\"Akurasi Relatif Model: {accuracy_percentage:.2f}%\")"
   ]
  },
  {
   "cell_type": "markdown",
   "id": "7282d1ae",
   "metadata": {},
   "source": [
    "Prediksi"
   ]
  },
  {
   "cell_type": "code",
   "execution_count": 115,
   "id": "d1a3a0fa",
   "metadata": {},
   "outputs": [
    {
     "name": "stdout",
     "output_type": "stream",
     "text": [
      "\n",
      "Prediksi Harga Saham di Masa Depan:\n",
      "     Tanggal  Prediksi Harga\n",
      "0 2023-12-31         1722.05\n",
      "1 2024-01-31         1739.10\n",
      "2 2024-02-29         1756.15\n",
      "3 2024-03-31         1773.20\n",
      "4 2024-04-30         1790.25\n",
      "5 2024-05-31         1807.30\n",
      "6 2024-06-30         1824.35\n",
      "7 2024-07-31         1841.40\n",
      "8 2024-08-31         1858.45\n",
      "9 2024-09-30         1875.50\n"
     ]
    }
   ],
   "source": [
    "import pandas as pd\n",
    "import numpy as np\n",
    "import pyspark.sql.functions as F\n",
    "\n",
    "# Assuming data_vec is a Spark DataFrame\n",
    "terakhir_price = data_vec.select('Close').orderBy(F.desc('Date')).first()['Close']\n",
    "future_harga = [terakhir_price * (1 + i/100) for i in range(1, 11)]\n",
    "\n",
    "# Ensure that 'Date' is a proper date type\n",
    "data_vec = data_vec.withColumn('Date', F.col('Date').cast('date'))\n",
    "\n",
    "# Prediksi harga saham di masa depan\n",
    "tgl = pd.date_range(start=data_vec.agg({\"Date\": \"max\"}).collect()[0][0], periods=10, freq='M')\n",
    "\n",
    "# Rename 'Date' to something else, for example, 'Tanggal'\n",
    "predictions_df = pd.DataFrame({'Tanggal': tgl, 'Prediksi Harga': future_harga})\n",
    "print(\"\\nPrediksi Harga Saham di Masa Depan:\")\n",
    "print(predictions_df)\n"
   ]
  },
  {
   "cell_type": "markdown",
   "id": "87e69a21",
   "metadata": {},
   "source": [
    "Visualisasi"
   ]
  },
  {
   "cell_type": "code",
   "execution_count": 126,
   "id": "4c289f0f",
   "metadata": {},
   "outputs": [],
   "source": [
    "# Mendapatkan koefisien kemiringan dan intersep dari model regresi linear\n",
    "slope = lr_model.coefficients[0]\n",
    "intercept = lr_model.intercept\n",
    "\n",
    "# Menghitung prediksi harga menggunakan fungsi linier\n",
    "X = np.array(data_pd['Close'])\n",
    "y_regression = slope * X + intercept\n"
   ]
  },
  {
   "cell_type": "code",
   "execution_count": 130,
   "id": "f735a51c",
   "metadata": {},
   "outputs": [
    {
     "data": {
      "image/png": "[encoded data removed]",
      "text/plain": [
       "<Figure size 1500x600 with 1 Axes>"
      ]
     },
     "metadata": {},
     "output_type": "display_data"
    }
   ],
   "source": [
    "import matplotlib.pyplot as plt\n",
    "import pandas as pd\n",
    "import numpy as np\n",
    "from pyspark.sql import SparkSession\n",
    "from pyspark.sql import functions as F\n",
    "from pyspark.sql.window import Window\n",
    "\n",
    "\n",
    "# Convert PySpark DataFrame to Pandas for plotting\n",
    "data_pd = data_vec.toPandas()\n",
    "\n",
    "\n",
    "# Convert NumPy array to Pandas DataFrame\n",
    "y_regression_pd = pd.DataFrame({'Tanggal': data_pd['Date'], 'y_regression': y_regression})\n",
    "\n",
    "\n",
    "# Plotting\n",
    "plt.figure(figsize=(15, 6))\n",
    "plt.plot(data_pd['Date'], data_pd['Close'], label='Data Historis')\n",
    "plt.plot(predictions_df['Tanggal'], predictions_df['Prediksi Harga'], marker='o', linestyle='-', label='Prediksi Harga')\n",
    "plt.plot(y_regression_pd['Tanggal'], y_regression_pd['y_regression'], color='red', linestyle='--', label='Garis Regresi Linear')\n",
    "plt.xlabel('Tanggal')\n",
    "plt.ylabel('Harga Saham')\n",
    "plt.title('Prediksi Harga Saham di Masa Depan')\n",
    "plt.xticks(rotation=45)\n",
    "plt.legend()\n",
    "plt.grid(True)\n",
    "plt.show()\n"
   ]
  },
  {
   "cell_type": "code",
   "execution_count": null,
   "id": "bf43a38e",
   "metadata": {},
   "outputs": [],
   "source": []
  },
  {
   "cell_type": "code",
   "execution_count": null,
   "id": "56185ad4",
   "metadata": {},
   "outputs": [],
   "source": []
  }
 ],
 "metadata": {
  "kernelspec": {
   "display_name": "Python 3 (ipykernel)",
   "language": "python",
   "name": "python3"
  },
  "language_info": {
   "codemirror_mode": {
    "name": "ipython",
    "version": 3
   },
   "file_extension": ".py",
   "mimetype": "text/x-python",
   "name": "python",
   "nbconvert_exporter": "python",
   "pygments_lexer": "ipython3",
   "version": "3.11.5"
  }
 },
 "nbformat": 4,
 "nbformat_minor": 5
}
